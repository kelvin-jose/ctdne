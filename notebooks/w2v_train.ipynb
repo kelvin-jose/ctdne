{
 "cells": [
  {
   "cell_type": "code",
   "execution_count": 2,
   "id": "1079bdc1-c48c-4397-8c10-5682b0a0026e",
   "metadata": {},
   "outputs": [],
   "source": [
    "import pickle\n",
    "import pandas as pd\n",
    "from gensim.models import Word2Vec"
   ]
  },
  {
   "cell_type": "code",
   "execution_count": 3,
   "id": "d9dcdc30-3c3b-44de-9d58-9c78e5480ccb",
   "metadata": {},
   "outputs": [],
   "source": [
    "temporal_walks_file = '../datasets/collegemsg/temporal_walks.pkl'\n",
    "\n",
    "with open(temporal_walks_file, 'rb') as file:\n",
    "    temporal_walks = pickle.load(file)"
   ]
  },
  {
   "cell_type": "code",
   "execution_count": 4,
   "id": "9b5f046c-2206-4f54-8d3d-60463b67a411",
   "metadata": {},
   "outputs": [
    {
     "data": {
      "text/plain": [
       "96556"
      ]
     },
     "execution_count": 4,
     "metadata": {},
     "output_type": "execute_result"
    }
   ],
   "source": [
    "len(temporal_walks)"
   ]
  },
  {
   "cell_type": "code",
   "execution_count": 6,
   "id": "6c9a1749-b253-4c2a-97f8-299dec033590",
   "metadata": {},
   "outputs": [],
   "source": [
    "#word2vec model training\n",
    "\n",
    "embed_dim = 128\n",
    "window = 10\n",
    "min_count = 1\n",
    "workers = 4\n",
    "\n",
    "w2v = Word2Vec(sentences = temporal_walks, \n",
    "              vector_size = embed_dim, \n",
    "              window = window, \n",
    "              min_count = min_count, \n",
    "              workers = workers)"
   ]
  },
  {
   "cell_type": "code",
   "execution_count": 7,
   "id": "2bf62132-db42-44a1-bfae-17949be36cf5",
   "metadata": {},
   "outputs": [],
   "source": [
    "k2i = pd.DataFrame({'node': w2v.wv.key_to_index.keys(), 'vindex': w2v.wv.key_to_index.values()})"
   ]
  },
  {
   "cell_type": "code",
   "execution_count": 8,
   "id": "a3e8e17b-22b8-4594-adc7-f5b7e5bfcd11",
   "metadata": {},
   "outputs": [
    {
     "data": {
      "text/html": [
       "<div>\n",
       "<style scoped>\n",
       "    .dataframe tbody tr th:only-of-type {\n",
       "        vertical-align: middle;\n",
       "    }\n",
       "\n",
       "    .dataframe tbody tr th {\n",
       "        vertical-align: top;\n",
       "    }\n",
       "\n",
       "    .dataframe thead th {\n",
       "        text-align: right;\n",
       "    }\n",
       "</style>\n",
       "<table border=\"1\" class=\"dataframe\">\n",
       "  <thead>\n",
       "    <tr style=\"text-align: right;\">\n",
       "      <th></th>\n",
       "      <th>node</th>\n",
       "      <th>vindex</th>\n",
       "    </tr>\n",
       "  </thead>\n",
       "  <tbody>\n",
       "    <tr>\n",
       "      <th>0</th>\n",
       "      <td>454</td>\n",
       "      <td>0</td>\n",
       "    </tr>\n",
       "    <tr>\n",
       "      <th>1</th>\n",
       "      <td>1624</td>\n",
       "      <td>1</td>\n",
       "    </tr>\n",
       "    <tr>\n",
       "      <th>2</th>\n",
       "      <td>1168</td>\n",
       "      <td>2</td>\n",
       "    </tr>\n",
       "    <tr>\n",
       "      <th>3</th>\n",
       "      <td>323</td>\n",
       "      <td>3</td>\n",
       "    </tr>\n",
       "    <tr>\n",
       "      <th>4</th>\n",
       "      <td>1043</td>\n",
       "      <td>4</td>\n",
       "    </tr>\n",
       "    <tr>\n",
       "      <th>...</th>\n",
       "      <td>...</td>\n",
       "      <td>...</td>\n",
       "    </tr>\n",
       "    <tr>\n",
       "      <th>1326</th>\n",
       "      <td>86</td>\n",
       "      <td>1326</td>\n",
       "    </tr>\n",
       "    <tr>\n",
       "      <th>1327</th>\n",
       "      <td>806</td>\n",
       "      <td>1327</td>\n",
       "    </tr>\n",
       "    <tr>\n",
       "      <th>1328</th>\n",
       "      <td>490</td>\n",
       "      <td>1328</td>\n",
       "    </tr>\n",
       "    <tr>\n",
       "      <th>1329</th>\n",
       "      <td>476</td>\n",
       "      <td>1329</td>\n",
       "    </tr>\n",
       "    <tr>\n",
       "      <th>1330</th>\n",
       "      <td>682</td>\n",
       "      <td>1330</td>\n",
       "    </tr>\n",
       "  </tbody>\n",
       "</table>\n",
       "<p>1331 rows × 2 columns</p>\n",
       "</div>"
      ],
      "text/plain": [
       "      node  vindex\n",
       "0      454       0\n",
       "1     1624       1\n",
       "2     1168       2\n",
       "3      323       3\n",
       "4     1043       4\n",
       "...    ...     ...\n",
       "1326    86    1326\n",
       "1327   806    1327\n",
       "1328   490    1328\n",
       "1329   476    1329\n",
       "1330   682    1330\n",
       "\n",
       "[1331 rows x 2 columns]"
      ]
     },
     "execution_count": 8,
     "metadata": {},
     "output_type": "execute_result"
    }
   ],
   "source": [
    "k2i"
   ]
  },
  {
   "cell_type": "code",
   "execution_count": null,
   "id": "77ae2a4f-e472-4cbc-87fc-526bba8f8cb8",
   "metadata": {},
   "outputs": [],
   "source": []
  }
 ],
 "metadata": {
  "kernelspec": {
   "display_name": "Python 3 (ipykernel)",
   "language": "python",
   "name": "python3"
  },
  "language_info": {
   "codemirror_mode": {
    "name": "ipython",
    "version": 3
   },
   "file_extension": ".py",
   "mimetype": "text/x-python",
   "name": "python",
   "nbconvert_exporter": "python",
   "pygments_lexer": "ipython3",
   "version": "3.12.4"
  }
 },
 "nbformat": 4,
 "nbformat_minor": 5
}
